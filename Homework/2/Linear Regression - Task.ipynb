{
 "cells": [
  {
   "cell_type": "code",
   "execution_count": 2,
   "metadata": {},
   "outputs": [],
   "source": [
    "import numpy as np\n",
    "import pandas as pd\n",
    "from sklearn.model_selection import train_test_split\n",
    "from mpl_toolkits.mplot3d import Axes3D\n",
    "import matplotlib.pyplot as plt\n",
    "%matplotlib inline"
   ]
  },
  {
   "cell_type": "code",
   "execution_count": 3,
   "metadata": {},
   "outputs": [],
   "source": [
    "def load_datasets(filename, column_list, target_column):\n",
    "    '''\n",
    "    Читає вхідний файл\n",
    "    \n",
    "    Параметри:\n",
    "    filename - шлях до вхідного файлу з даними\n",
    "    column_list - список назв колонок-характеристик\n",
    "    target_column - назва колонки з цільовою величиною\n",
    "    \n",
    "    Результат:\n",
    "    X - набір характеристик\n",
    "    y - набір передбачуваних величин\n",
    "    '''\n",
    "    \n",
    "    df = pd.read_csv(filename, delimiter=',')\n",
    "    X, y = df[column_list].values, df[target_column].values\n",
    "    return X, y"
   ]
  },
  {
   "cell_type": "code",
   "execution_count": 4,
   "metadata": {},
   "outputs": [],
   "source": [
    "def split_datasets(X, y, test_size = 0.2):\n",
    "    '''\n",
    "    Розбиває дані на 2 датасети: тренувальний та тестувальний.\n",
    "    \n",
    "    Параметри:\n",
    "    X - набір характеристик\n",
    "    y - набір передбачуваних величин\n",
    "    test_size - розмір тестового датасету\n",
    "    \n",
    "    Результат:\n",
    "    X_train - набір тренувальних прикладів\n",
    "    X_test - набір тестових прикладів\n",
    "    y_train - вектор величин, що передбачаємо для тренувального датасету\n",
    "    y_test - вектор величин, що передбачаємо для тестового датасету\n",
    "    '''\n",
    "    X_train, X_test, y_train, y_test = train_test_split(X, y, test_size=test_size)\n",
    "    return X_train, X_test, y_train, y_test"
   ]
  },
  {
   "cell_type": "code",
   "execution_count": 5,
   "metadata": {},
   "outputs": [],
   "source": [
    "def plot_data(X_train, X_test, y_train, y_test):\n",
    "    '''\n",
    "    Функція для відображення розподілу тренувальних та тестових даних (для однієї змінної)\n",
    "    '''\n",
    "    plt.scatter(X_train, y_train, marker='^', c='green')\n",
    "    plt.scatter(X_test, y_test, marker='o', c='red')\n",
    "    plt.show()"
   ]
  },
  {
   "cell_type": "code",
   "execution_count": 6,
   "metadata": {},
   "outputs": [],
   "source": [
    "def normalize(X):\n",
    "    '''\n",
    "    Нормалізує датасет з характеристиками\n",
    "    \n",
    "    Параметри:\n",
    "    X - набір характеристик\n",
    "    \n",
    "    Результат:\n",
    "    X_new - набір нормалізованих характеристик, (X-mean)/std\n",
    "    mean - вектор середніх значень характеристик\n",
    "    std - вектор стандартних девіацій характеристик\n",
    "    '''\n",
    "    ##################\n",
    "    # Заповнити змінні\n",
    "    ##################\n",
    "    mean = X.mean()\n",
    "    std = X.std()\n",
    "    X_new = (X - mean)/std\n",
    "    return X_new, mean, std"
   ]
  },
  {
   "cell_type": "code",
   "execution_count": 7,
   "metadata": {},
   "outputs": [],
   "source": [
    "def prepare_X(X):\n",
    "    '''\n",
    "    Формує датасет з рисами, де першою колонкою буде колонка з одиницями.\n",
    "    \n",
    "    Параметри:\n",
    "    X - вхідний датасет з прикладами, по одному в рядок. Кожна риса - відповідна колонка.\n",
    "    \n",
    "    Результат:\n",
    "    X_new - датасет, який складається з колонки одиниць, а решта колонок з X    \n",
    "    '''\n",
    "    m = X.shape[0]\n",
    "    ones = np.ones((m, 1))\n",
    "    X_new = np.array(X[:])\n",
    "    X_new = np.column_stack((ones, X_new))\n",
    "    return X_new"
   ]
  },
  {
   "cell_type": "code",
   "execution_count": 8,
   "metadata": {},
   "outputs": [],
   "source": [
    "def hypothesis(X, theta):\n",
    "    '''\n",
    "    Обчислює значення передбачуваної величини для вхідної матриці X та вектора параметрів thetha.\n",
    "    \n",
    "    Параметри:\n",
    "    X - матриця з рисами. Перша колонка - одиниці. Друга - дані риси.\n",
    "    thetha - вектор параметрів: [thetha0, thetha1]\n",
    "    \n",
    "    Результат:\n",
    "    Матриця значень шуканої величини для прикладів з X\n",
    "    '''\n",
    "    ######################\n",
    "    # Один рядок коду\n",
    "    ######################\n",
    "    h_thetha =(pd.DataFrame(X) * pd.Series(theta)).sum(axis=1)\n",
    "    return h_thetha"
   ]
  },
  {
   "cell_type": "code",
   "execution_count": 9,
   "metadata": {},
   "outputs": [],
   "source": [
    "def cost_function(X, y, theta):\n",
    "    '''\n",
    "    Функція для обчислення штрафної функції J.\n",
    "    \n",
    "    Параметри:\n",
    "    X - тренувальний датасет. 0 - колонка з одиниць, далі - реальні риси\n",
    "    y - точні значення передбачуваної величини\n",
    "    thethe - вектор параметрів регресії\n",
    "    \n",
    "    Результат:\n",
    "    Дійсне число - значення штрафної функції для набору прикладів X та параметрів thetha\n",
    "    '''\n",
    "    m = X.shape[0]\n",
    "    if m == 0:\n",
    "        return None\n",
    "    ######################\n",
    "    # 1-2 рядки коду\n",
    "    J = 1/(2*m)*sum((hypothesis(pd.DataFrame(X), pd.Series(theta)) - y)**2)\n",
    "    ######################\n",
    "    return J"
   ]
  },
  {
   "cell_type": "code",
   "execution_count": 10,
   "metadata": {},
   "outputs": [],
   "source": [
    "def derivative(X, y, theta):\n",
    "    m = X.shape[0]\n",
    "    '''\n",
    "    Функція для обчислення похідних штрафної функції J по thetha.\n",
    "    \n",
    "    Параметри:\n",
    "    X - тренувальний датасет. 0 - колонка з одиниць, далі - реальні риси\n",
    "    y - точні значення передбачуваної величини\n",
    "    thetha - вектор параметрів регресії\n",
    "    \n",
    "    Результат:\n",
    "    Вектор похідних d_thetha\n",
    "    '''\n",
    "    ######################\n",
    "    # 1 рядок коду\n",
    "    d_thetha = 1/m * pd.DataFrame(X).mul(hypothesis(pd.DataFrame(X), pd.Series(theta)) - pd.Series(y), axis = 0).sum()\n",
    "    ######################\n",
    "    return d_thetha"
   ]
  },
  {
   "cell_type": "code",
   "execution_count": 11,
   "metadata": {},
   "outputs": [],
   "source": [
    "def gradient_descent(X, y, theta, alpha, num_iters, print_J = True):\n",
    "    '''\n",
    "    Функція, що реалізує градієнтний спуск для метода лінійної регресії.\n",
    "    \n",
    "    Параметри:\n",
    "    X - тренувальний датасет. 0 - колонка з одиниць, далі - реальні риси\n",
    "    y - точні значення передбачуваної величини\n",
    "    thetha - вектор початкових параметрів регресії\n",
    "    alpha - швидкість навчання\n",
    "    num_iters - кількість ітерацій\n",
    "    print_J - виведення штрафної функції на екран після кожної ітерації\n",
    "    \n",
    "    Результат:\n",
    "    theta - оптимальні значення параметрів регресії\n",
    "    J_history - масив історичних значень штрафної функції після кожної ітерації\n",
    "    \n",
    "    \n",
    "    1) J_i (theta_0, theta_1)\n",
    "    2)  theta_0 = theta_0 - alpha*dtheta_0\n",
    "        theta_1 = theta_1 - alpha*dtheta_1\n",
    "        |J_i-J_{i-1}| < eps || num_iters>10000000000 -> break\n",
    "    3) goto 1\n",
    "    '''\n",
    "    m = X.shape[0]\n",
    "    J_history = []\n",
    "    J = cost_function(X, y, theta)\n",
    "    if print_J == True:\n",
    "        print(J)\n",
    "    J_history.append(J)\n",
    "    for i in range(num_iters):\n",
    "        ######################\n",
    "        # Використати написані вище функції\n",
    "        delta = derivative(X, y, theta)\n",
    "        theta = theta - alpha*delta\n",
    "        J = cost_function(X, y, theta)\n",
    "        ######################\n",
    "        if print_J == True:\n",
    "            print(J)\n",
    "        J_history.append(J)\n",
    "    return theta, J_history"
   ]
  },
  {
   "cell_type": "code",
   "execution_count": 25,
   "metadata": {},
   "outputs": [],
   "source": [
    "def plot_J(X, y):\n",
    "    '''\n",
    "    Функція для виведення графіків штрафної функції для різних значень параметрів на вхідних даних\n",
    "    \n",
    "    Параметри:\n",
    "    X - тренувальний датасет. 0 - колонка з одиниць, далі - реальні риси\n",
    "    y - точні значення передбачуваної величини\n",
    "    '''\n",
    "    theta_0 = np.linspace(-20, 20, 100)\n",
    "    theta_1 = np.linspace(-5, 10, 100)\n",
    "    \n",
    "    J_vals = np.zeros((len(theta_0), len(theta_1)))\n",
    "    for i, t0 in enumerate(theta_0):\n",
    "        for j, t1 in enumerate(theta_1):\n",
    "            theta = np.array([t0, t1])\n",
    "            J_vals[i, j] = cost_function(X, y, theta)\n",
    "    \n",
    "    J_vals = J_vals.T\n",
    "    fig = plt.figure()\n",
    "    ax = fig.add_subplot(projection='3d')\n",
    "    ax.plot_surface(theta_0, theta_1, J_vals, color='b')\n",
    "    plt.xlabel('theta_0')\n",
    "    plt.ylabel('theta_1')\n",
    "    plt.title('Surface plot of the cost function')\n",
    "    plt.show()\n",
    "    plt.contour(theta_0, theta_1, J_vals, np.logspace(-2, 3, 20))\n",
    "    plt.xlabel('theta_0')\n",
    "    plt.ylabel('theta_1')\n",
    "    plt.title('Contour plot of the cost function')\n",
    "    plt.show()"
   ]
  },
  {
   "cell_type": "markdown",
   "metadata": {},
   "source": [
    "## Основний код програми"
   ]
  },
  {
   "cell_type": "markdown",
   "metadata": {},
   "source": [
    "Отримання датасетів та видрук їх параметрів."
   ]
  },
  {
   "cell_type": "code",
   "execution_count": 13,
   "metadata": {},
   "outputs": [
    {
     "name": "stdout",
     "output_type": "stream",
     "text": [
      "Dataset: X=(97, 1), y=(97,)\n"
     ]
    }
   ],
   "source": [
    "X, y = load_datasets('burrito.csv', [\"population\"], \"profit\")\n",
    "print('Dataset: X={}, y={}'.format(X.shape, y.shape))\n"
   ]
  },
  {
   "cell_type": "code",
   "execution_count": 14,
   "metadata": {},
   "outputs": [
    {
     "data": {
      "text/plain": [
       "array([17.592  ,  9.1302 , 13.662  , 11.854  ,  6.8233 , 11.886  ,\n",
       "        4.3483 , 12.     ,  6.5987 ,  3.8166 ,  3.2522 , 15.505  ,\n",
       "        3.1551 ,  7.2258 ,  0.71618,  3.5129 ,  5.3048 ,  0.56077,\n",
       "        3.6518 ,  5.3893 ,  3.1386 , 21.767  ,  4.263  ,  5.1875 ,\n",
       "        3.0825 , 22.638  , 13.501  ,  7.0467 , 14.692  , 24.147  ,\n",
       "       -1.22   ,  5.9966 , 12.134  ,  1.8495 ,  6.5426 ,  4.5623 ,\n",
       "        4.1164 ,  3.3928 , 10.117  ,  5.4974 ,  0.55657,  3.9115 ,\n",
       "        5.3854 ,  2.4406 ,  6.7318 ,  1.0463 ,  5.1337 ,  1.844  ,\n",
       "        8.0043 ,  1.0179 ,  6.7504 ,  1.8396 ,  4.2885 ,  4.9981 ,\n",
       "        1.4233 , -1.4211 ,  2.4756 ,  4.6042 ,  3.9624 ,  5.4141 ,\n",
       "        5.1694 , -0.74279, 17.929  , 12.054  , 17.054  ,  4.8852 ,\n",
       "        5.7442 ,  7.7754 ,  1.0173 , 20.992  ,  6.6799 ,  4.0259 ,\n",
       "        1.2784 ,  3.3411 , -2.6807 ,  0.29678,  3.8845 ,  5.7014 ,\n",
       "        6.7526 ,  2.0576 ,  0.47953,  0.20421,  0.67861,  7.5435 ,\n",
       "        5.3436 ,  4.2415 ,  6.7981 ,  0.92695,  0.152  ,  2.8214 ,\n",
       "        1.8451 ,  4.2959 ,  7.2029 ,  1.9869 ,  0.14454,  9.0551 ,\n",
       "        0.61705])"
      ]
     },
     "execution_count": 14,
     "metadata": {},
     "output_type": "execute_result"
    }
   ],
   "source": [
    "y"
   ]
  },
  {
   "cell_type": "markdown",
   "metadata": {},
   "source": [
    "Розбиття датасету на частини:"
   ]
  },
  {
   "cell_type": "code",
   "execution_count": 15,
   "metadata": {},
   "outputs": [
    {
     "name": "stdout",
     "output_type": "stream",
     "text": [
      "Training set: X=(77, 1), y=(77,)\n",
      "Test set: X=(20, 1), y=(20,)\n"
     ]
    }
   ],
   "source": [
    "test_size = 0.2 #0.0\n",
    "X_train, X_test, y_train, y_test = split_datasets(X, y, test_size)\n",
    "print('Training set: X={}, y={}'.format(X_train.shape, y_train.shape))\n",
    "print('Test set: X={}, y={}'.format(X_test.shape, y_test.shape))"
   ]
  },
  {
   "cell_type": "markdown",
   "metadata": {},
   "source": [
    "Відображення тренувальних і тестових даних на графіку (для 1 змінної)"
   ]
  },
  {
   "cell_type": "code",
   "execution_count": 16,
   "metadata": {},
   "outputs": [
    {
     "data": {
      "image/png": "[encoded data removed]",
      "text/plain": [
       "<Figure size 432x288 with 1 Axes>"
      ]
     },
     "metadata": {
      "needs_background": "light"
     },
     "output_type": "display_data"
    }
   ],
   "source": [
    "plot_data(X_train, X_test, y_train, y_test)"
   ]
  },
  {
   "cell_type": "markdown",
   "metadata": {},
   "source": [
    "Підготовка тренувальних даних (додавання 0-колонки з одиницями). Ініціалізація параметрів регресії (0, 0): "
   ]
  },
  {
   "cell_type": "code",
   "execution_count": 17,
   "metadata": {},
   "outputs": [],
   "source": [
    "X_train_norm, mean, std = normalize(X_train)\n",
    "X = prepare_X(X_train_norm)\n",
    "theta = np.array([0, 0])"
   ]
  },
  {
   "cell_type": "markdown",
   "metadata": {},
   "source": [
    "Для спрощення записів аліас для вектора передбачуваних значень"
   ]
  },
  {
   "cell_type": "code",
   "execution_count": 18,
   "metadata": {},
   "outputs": [],
   "source": [
    "y = y_train[:]"
   ]
  },
  {
   "cell_type": "markdown",
   "metadata": {},
   "source": [
    "У випадку використання ВСІХ даних для тренування (test_size=0.0), штрафна функція має повернути величину близьку до 32.072."
   ]
  },
  {
   "cell_type": "code",
   "execution_count": 19,
   "metadata": {},
   "outputs": [
    {
     "name": "stdout",
     "output_type": "stream",
     "text": [
      "X: (77, 2)\n",
      "y: (77,)\n",
      "32.61795810063051\n"
     ]
    }
   ],
   "source": [
    "print('X: {}'.format(X.shape))\n",
    "print('y: {}'.format(y.shape))\n",
    "print(cost_function(X, y, theta))"
   ]
  },
  {
   "cell_type": "markdown",
   "metadata": {},
   "source": [
    "Налаштування гіперпараметрів регресії: швидкості навчання та кількості ітерацій."
   ]
  },
  {
   "cell_type": "code",
   "execution_count": 20,
   "metadata": {},
   "outputs": [],
   "source": [
    "alpha = 0.01\n",
    "num_iters = 1500"
   ]
  },
  {
   "cell_type": "markdown",
   "metadata": {},
   "source": [
    "Запуск градієнтного спуску та видрук знайдених оптимальних значень на екран. У випадку використання всіх даних для тренування, результати будуть близькі до Theta 0: 5.84; Theta 1: 4.59"
   ]
  },
  {
   "cell_type": "code",
   "execution_count": 21,
   "metadata": {},
   "outputs": [
    {
     "name": "stdout",
     "output_type": "stream",
     "text": [
      "Theta 0: 5.851535872644104; Theta 1: 4.661329167222926\n"
     ]
    }
   ],
   "source": [
    "new_theta, Js = gradient_descent(X, y, theta, alpha, num_iters, False)\n",
    "print('Theta 0: {}; Theta 1: {}'.format(new_theta[0], new_theta[1]))"
   ]
  },
  {
   "cell_type": "markdown",
   "metadata": {},
   "source": [
    "Відображення штрафної функції як функції від thetha0, thetha1."
   ]
  },
  {
   "cell_type": "code",
   "execution_count": 26,
   "metadata": {},
   "outputs": [
    {
     "data": {
      "image/png": "[encoded data removed]",
      "text/plain": [
       "<Figure size 432x288 with 1 Axes>"
      ]
     },
     "metadata": {
      "needs_background": "light"
     },
     "output_type": "display_data"
    },
    {
     "data": {
      "image/png": "[encoded data removed]",
      "text/plain": [
       "<Figure size 432x288 with 1 Axes>"
      ]
     },
     "metadata": {
      "needs_background": "light"
     },
     "output_type": "display_data"
    }
   ],
   "source": [
    "plot_J(X, y)"
   ]
  },
  {
   "cell_type": "markdown",
   "metadata": {},
   "source": [
    "Відображення знайденої апроксимації разом із тренувальними даними."
   ]
  },
  {
   "cell_type": "code",
   "execution_count": 23,
   "metadata": {},
   "outputs": [
    {
     "data": {
      "image/png": "[encoded data removed]",
      "text/plain": [
       "<Figure size 432x288 with 1 Axes>"
      ]
     },
     "metadata": {
      "needs_background": "light"
     },
     "output_type": "display_data"
    }
   ],
   "source": [
    "x = np.arange(3, 25, 0.1)\n",
    "h = new_theta[0] + new_theta[1]*(x-mean)/std\n",
    "\n",
    "plt.plot(x, h)\n",
    "plt.scatter(X[:, 1], y_train, marker='x', c='green')\n",
    "\n",
    "plt.show()"
   ]
  },
  {
   "cell_type": "markdown",
   "metadata": {},
   "source": [
    "Оцінка похибки апроксимації на тестових даних (test_size має бути більше 0.0 та менше 1.0)."
   ]
  },
  {
   "cell_type": "code",
   "execution_count": 30,
   "metadata": {},
   "outputs": [
    {
     "name": "stdout",
     "output_type": "stream",
     "text": [
      "          X  y_actual     y_pred          err\n",
      "0    7.3345   4.02590   4.873592    21.055970\n",
      "1   13.1760  14.69200  11.823692    19.522921\n",
      "2    7.4764   4.34830   5.042422    15.963068\n",
      "3    8.5781  12.00000   6.353203    47.056644\n",
      "4   18.9590  17.05400  18.704190     9.676266\n",
      "5    6.5479   0.29678   3.937711  1226.811555\n",
      "6    6.5159   5.34360   3.899638    27.022263\n",
      "7    6.3534   5.49740   3.706299    32.580873\n",
      "8   14.1640  15.50500  12.999195    16.161270\n",
      "9    5.3054   1.98690   2.459410    23.781249\n",
      "10   5.7292   0.47953   2.963638   518.029824\n",
      "11   6.4862   6.59870   3.864302    41.438436\n",
      "12  10.2360   7.77540   8.325739     7.077952\n",
      "13   6.3589  -1.42110   3.712843   361.265421\n",
      "14   5.0365   5.70140   2.139478    62.474519\n",
      "15   5.8918   1.84950   3.157097    70.700008\n",
      "16   5.7107   3.25220   2.941627     9.549613\n",
      "17  11.7080   5.38540  10.077095    87.118790\n",
      "18   6.3654   5.30480   3.720576    29.863963\n",
      "19   5.5204   0.15200   2.715212  1686.323910\n",
      "3.874553669577166\n"
     ]
    }
   ],
   "source": [
    "####################\n",
    "# Нормалізувати тестовий датасет, використовуючи mean, std з тренувального\n",
    "####################\n",
    "X_test_proc = (X_test - mean)/std\n",
    "X_test_proc = prepare_X(X_test_proc)\n",
    "y_test_pred = hypothesis(X_test_proc, new_theta)\n",
    "rel_diff = np.abs(np.divide(y_test - y_test_pred, y_test)) * 100\n",
    "\n",
    "res = pd.DataFrame({\"X\" : np.transpose(X_test).reshape(20,), \"y_actual\" : y_test, \"y_pred\" : y_test_pred, \"err\" : rel_diff})\n",
    "print(res)\n",
    "print(cost_function(X_test_proc, y_test, new_theta))"
   ]
  }
 ],
 "metadata": {
  "anaconda-cloud": {},
  "kernelspec": {
   "display_name": "Python 3 (ipykernel)",
   "language": "python",
   "name": "python3"
  },
  "language_info": {
   "codemirror_mode": {
    "name": "ipython",
    "version": 3
   },
   "file_extension": ".py",
   "mimetype": "text/x-python",
   "name": "python",
   "nbconvert_exporter": "python",
   "pygments_lexer": "ipython3",
   "version": "3.9.7"
  }
 },
 "nbformat": 4,
 "nbformat_minor": 1
}
