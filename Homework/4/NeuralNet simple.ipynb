{
 "cells": [
  {
   "cell_type": "markdown",
   "metadata": {},
   "source": [
    "В цій практичній роботі ми спробуємо реалізувати нейронну мережу з двох шарів (прихований і вихідний). Запропонований підхід стане заготовкою для реалізації наступних оптимізацій: MBGD, ADAM та регуляризації. \n",
    "\n",
    "Сьогодні ж вам пропонується додати до цього класу підтримку довільної кількості шарів та нейронів в них (наприклад, передавати їх параметром в конструктор, як це робиться в MLPClassifier за допомогою hidden_layer_sizes). Також потрібно передбачити можливість ранньої зупинки ітераційного процесу, якщо значення штрафної функції не покращуватиметься протягом певної кількості ітерацій. Наприклад, якщо протягом $k$ ітерацій штрафна функція за модулем не стане меншою, ніж на поточному кроці."
   ]
  },
  {
   "cell_type": "code",
   "execution_count": 1,
   "metadata": {},
   "outputs": [],
   "source": [
    "import numpy as np\n",
    "import pandas as pd\n",
    "from sklearn.model_selection import train_test_split\n",
    "from mpl_toolkits.mplot3d import Axes3D\n",
    "import matplotlib.pyplot as plt\n",
    "\n",
    "from matplotlib.colors import ListedColormap\n",
    "cm_bright = ListedColormap(['#FF0000', '#0000FF'])\n",
    "%matplotlib inline\n",
    "from sklearn.metrics import accuracy_score\n",
    "\n",
    "import sklearn.linear_model"
   ]
  },
  {
   "cell_type": "code",
   "execution_count": 2,
   "metadata": {},
   "outputs": [],
   "source": [
    "def plot_surface(cls, x_1, x_2, ax=None, threshold=0.5, contourf=False):\n",
    "    xx1, xx2 = np.meshgrid(np.linspace(x_1.min(), x_1.max(), 100), \n",
    "                           np.linspace(x_2.min(), x_2.max(), 100))\n",
    "\n",
    "    X_pred = np.c_[xx1.ravel(), xx2.ravel()]\n",
    "    pred = cls.predict_proba(X_pred)[:, 0]\n",
    "    Z = pred.reshape((100, 100))\n",
    "    if ax is None:\n",
    "        ax = plt.gca()\n",
    "    ax.contour(xx1, xx2, Z, levels=[threshold], colors='black')\n",
    "    ax.set_xlim((x_1.min(), x_1.max()))\n",
    "    ax.set_ylim((x_2.min(), x_2.max()))"
   ]
  },
  {
   "cell_type": "code",
   "execution_count": 3,
   "metadata": {},
   "outputs": [],
   "source": [
    "def plot_data(X, y):\n",
    "    ax = plt.gca()\n",
    "    ax.scatter(X[:,0], X[:,1], c=(y == 1), cmap=cm_bright)"
   ]
  },
  {
   "cell_type": "code",
   "execution_count": 4,
   "metadata": {},
   "outputs": [],
   "source": [
    "class NeuralNet:\n",
    "    \"\"\"\n",
    "    NN for binary classification\n",
    "    Attributes:\n",
    "    ...\n",
    "    \"\"\"\n",
    "    \n",
    "    def __init__(self, normalize = True, learning_rate = 0.01, num_iter = 30000):\n",
    "        self.learning_rate = learning_rate\n",
    "        self.num_iter = num_iter\n",
    "        self.normalize = normalize\n",
    "    \n",
    "    def __normalize(self, X, mean = None, std = None):\n",
    "        \"\"\"\n",
    "        Зверніть увагу, що нормалізація вхідних даних є дуже важливою для швидкодії нейронних мереж.\n",
    "        \"\"\"\n",
    "        n = X.shape[0]\n",
    "        m = mean\n",
    "        if m is None:\n",
    "            m = np.mean(X, axis=1).reshape((n, 1))\n",
    "        s = std\n",
    "        if s is None:\n",
    "            s = np.std(X, axis=1).reshape((n, 1))\n",
    "        X_new = (X - m) / s\n",
    "        return X_new, m, s\n",
    "\n",
    "    def __sigmoid(self, Z):\n",
    "        \"\"\"\n",
    "        В наступних практичних потрібно буде додати підтримку й інших активаційних функцій - це один з гіперпараметрів. \n",
    "        Їх можна вибирати для всіх шарів одночасно або мати різні активаційні функції на кожному з них.\n",
    "        \"\"\"\n",
    "        return 1 / (1 + np.exp(-Z))\n",
    "    \n",
    "    def __initialize_parameters(self, n_x, n_1):\n",
    "        W1 = np.random.randn(n_1, n_x) * 0.01\n",
    "        b1 = np.zeros((n_1, 1))\n",
    "        W2 = np.random.randn(1, n_1) * 0.01\n",
    "        b2 = 0 # у вихідному шарі лише 1 нейрон\n",
    "        self.parameters = {\"W1\" : W1, \"b1\" : b1, \"W2\" : W2, \"b2\" : b2}\n",
    "       \n",
    "    def __forward_propagation(self, X):\n",
    "        W1 = self.parameters[\"W1\"]\n",
    "        b1 = self.parameters[\"b1\"]\n",
    "        W2 = self.parameters[\"W2\"]\n",
    "        b2 = self.parameters[\"b2\"]\n",
    "\n",
    "        Z1 = np.dot(W1, X) + b1\n",
    "        A1 = self.__sigmoid(Z1)\n",
    "\n",
    "        Z2 = np.dot(W2, A1) + b2\n",
    "        A2 = self.__sigmoid(Z2)\n",
    "\n",
    "        \n",
    "        cache = (W1, b1, W2, b2, Z1, A1, Z2, A2)\n",
    "\n",
    "        return A2, cache\n",
    "    \n",
    "    def compute_cost(self, A, Y):\n",
    "        m = Y.shape[1]\n",
    "        res = Y * np.log(A) + (1 - Y) * np.log(1 - A)\n",
    "        J = -(1 / m) * np.sum(res)\n",
    "        return J\n",
    "        \n",
    "    def __backward_propagation(self, X, Y, cache):\n",
    "        m = X.shape[1]\n",
    "        n = X.shape[0]\n",
    "        (W1, b1, W2, b2, Z1, A1, Z2, A2) = cache\n",
    "        \n",
    "        dZ2 = A2 - Y\n",
    "        dW2 = 1. / m * np.dot(dZ2, A1.T)\n",
    "        db2 = 1. / m * np.sum(dZ2, axis = 1, keepdims = True)\n",
    "        \n",
    "        dA1 = np.dot(W2.T, dZ2)\n",
    "        dZ1 = np.multiply(dA1, np.multiply(A1, 1 - A1))\n",
    "        dW1 = 1. / m * np.dot(dZ1, X.T)\n",
    "        db1 = 1. / m * np.sum(dZ1, axis = 1, keepdims = True)\n",
    "        \n",
    "\n",
    "        grads = {\"dZ1\" : dZ1, \"dW1\" : dW1, \"db1\" : db1, \"dZ2\" : dZ2, \"dW2\" : dW2, \"db2\" : db2}\n",
    "        return grads\n",
    "    \n",
    "    def __update_parameters(self, grads):\n",
    "        W1 = self.parameters[\"W1\"]\n",
    "        b1 = self.parameters[\"b1\"]\n",
    "        W2 = self.parameters[\"W2\"]\n",
    "        b2 = self.parameters[\"b2\"]\n",
    "\n",
    "        dW1 = grads[\"dW1\"]\n",
    "        db1 = grads[\"db1\"]\n",
    "        dW2 = grads[\"dW2\"]\n",
    "        db2 = grads[\"db2\"]\n",
    "        \n",
    "\n",
    "        self.parameters[\"W1\"] = W1 - self.learning_rate * dW1\n",
    "        self.parameters[\"b1\"] = b1 - self.learning_rate * db1\n",
    "        self.parameters[\"W2\"] = W2 - self.learning_rate * dW2\n",
    "        self.parameters[\"b2\"] = b2 - self.learning_rate * db2\n",
    "\n",
    "        \n",
    "    def fit(self, X_vert, Y_vert, print_cost = True):\n",
    "        \n",
    "        X, Y = X_vert.T, Y_vert.T\n",
    "        \n",
    "        if self.normalize:\n",
    "            X, self.__mean, self.__std = self.__normalize(X)\n",
    "        \n",
    "        costs = []\n",
    "        \n",
    "        m = X.shape[1]\n",
    "        n_x = X.shape[0]\n",
    "        \n",
    "        self.__initialize_parameters(n_x, 20)\n",
    "\n",
    "        for i in range(self.num_iter):\n",
    "            A, cache = self.__forward_propagation(X)\n",
    "\n",
    "            cost = self.compute_cost(A, Y)\n",
    "\n",
    "            grads = self.__backward_propagation(X, Y, cache)\n",
    "\n",
    "            self.__update_parameters(grads)\n",
    "\n",
    "            if print_cost and i % 1000 == 0:\n",
    "                print(\"{}-th iteration: {}\".format(i, cost))\n",
    "\n",
    "            if i % 1000 == 0:\n",
    "                costs.append(cost)\n",
    "\n",
    "        if print_cost:\n",
    "            plt.plot(costs)\n",
    "            plt.ylabel(\"Cost\")\n",
    "            plt.xlabel(\"Iteration, *1000\")\n",
    "            plt.show()\n",
    "    \n",
    "    def predict_proba(self, X_vert):\n",
    "        X = X_vert.T\n",
    "        if self.normalize:\n",
    "            X, _, _ = self.__normalize(X, self.__mean, self.__std)\n",
    "        \n",
    "        probs = self.__forward_propagation(X)[0]\n",
    "        \n",
    "        return np.column_stack((probs.T, 1 - probs.T))\n",
    "    \n",
    "    def predict(self, X_vert):\n",
    "        positive_probs = self.predict_proba(X_vert)[:, 0]\n",
    "        return (positive_probs >= 0.5).astype(int)   \n"
   ]
  },
  {
   "cell_type": "markdown",
   "metadata": {},
   "source": [
    "Спочатку спробуйте цей клас на одній задачі, а потім на іншій."
   ]
  },
  {
   "cell_type": "code",
   "execution_count": 5,
   "metadata": {},
   "outputs": [],
   "source": [
    "#data_columns = [\"exam1\", \"exam2\"]\n",
    "#target_column = \"submitted\"\n",
    "#df = pd.read_csv(\"sats.csv\")\n",
    "#X, Y = df[data_columns].values, df[target_column].reshape((df.shape[0], 1))\n",
    "#print('Training set: X={}, y={}'.format(X.shape, Y.shape))"
   ]
  },
  {
   "cell_type": "code",
   "execution_count": 6,
   "metadata": {},
   "outputs": [
    {
     "name": "stdout",
     "output_type": "stream",
     "text": [
      "Training set: X=(118, 2), y=(118,)\n"
     ]
    }
   ],
   "source": [
    "data_columns = [\"test1\", \"test2\"]\n",
    "target_column = \"passed\"\n",
    "df = pd.read_csv(\"tests.csv\")\n",
    "X, Y = df[data_columns].values, df[target_column]\n",
    "print('Training set: X={}, y={}'.format(X.shape, Y.shape))"
   ]
  },
  {
   "cell_type": "code",
   "execution_count": 7,
   "metadata": {},
   "outputs": [
    {
     "data": {
      "image/png": "[encoded data removed]",
      "text/plain": [
       "<Figure size 432x288 with 1 Axes>"
      ]
     },
     "metadata": {
      "needs_background": "light"
     },
     "output_type": "display_data"
    }
   ],
   "source": [
    "plot_data(X, Y)"
   ]
  },
  {
   "cell_type": "code",
   "execution_count": 8,
   "metadata": {},
   "outputs": [],
   "source": [
    "cls = NeuralNet(normalize = True, learning_rate = 0.5, num_iter = 4000)"
   ]
  },
  {
   "cell_type": "code",
   "execution_count": 9,
   "metadata": {},
   "outputs": [
    {
     "name": "stdout",
     "output_type": "stream",
     "text": [
      "0-th iteration: 0.6932132845613251\n",
      "1000-th iteration: 0.6901256594893714\n",
      "2000-th iteration: 0.6721612524845662\n",
      "3000-th iteration: 0.5753242836867241\n"
     ]
    },
    {
     "data": {
      "image/png": "[encoded data removed]",
      "text/plain": [
       "<Figure size 432x288 with 1 Axes>"
      ]
     },
     "metadata": {
      "needs_background": "light"
     },
     "output_type": "display_data"
    }
   ],
   "source": [
    "cls.fit(X, Y.values.reshape((df.shape[0], 1)))"
   ]
  },
  {
   "cell_type": "code",
   "execution_count": 10,
   "metadata": {},
   "outputs": [
    {
     "name": "stdout",
     "output_type": "stream",
     "text": [
      "{'W1': array([[ 0.51024666,  0.26025267],\n",
      "       [ 3.71796429,  2.6505536 ],\n",
      "       [-0.02149411,  0.0399349 ],\n",
      "       [ 0.38603485,  0.18861644],\n",
      "       [-2.34784104,  1.8052009 ],\n",
      "       [-0.31681927, -0.0358632 ],\n",
      "       [ 0.59531884,  0.22958017],\n",
      "       [ 0.76415875,  0.61629523],\n",
      "       [ 0.7998777 ,  0.68361252],\n",
      "       [-0.51879368, -0.20214098],\n",
      "       [ 0.24757422,  0.13825363],\n",
      "       [ 0.76007727,  0.65219472],\n",
      "       [-0.16080731, -0.01778241],\n",
      "       [-0.55053416, -0.19744229],\n",
      "       [ 0.34856594,  0.15509794],\n",
      "       [ 0.49825212,  0.20430097],\n",
      "       [-0.09014138,  0.01685766],\n",
      "       [ 0.4665711 ,  0.18553704],\n",
      "       [ 0.36290072,  3.10626099],\n",
      "       [-0.16546946, -1.69592173]]), 'b1': array([[ 2.19293775e-01],\n",
      "       [-3.38219314e+00],\n",
      "       [ 9.96993443e-03],\n",
      "       [ 7.89793726e-02],\n",
      "       [-3.18754547e+00],\n",
      "       [-3.44440364e-02],\n",
      "       [ 2.71664758e-01],\n",
      "       [ 7.28564542e-01],\n",
      "       [ 8.18472541e-01],\n",
      "       [-2.77190047e-01],\n",
      "       [ 6.77266750e-03],\n",
      "       [ 7.54775742e-01],\n",
      "       [ 1.16206151e-03],\n",
      "       [-2.96185365e-01],\n",
      "       [ 4.52492794e-02],\n",
      "       [ 1.69932437e-01],\n",
      "       [ 1.38416781e-02],\n",
      "       [ 1.34109404e-01],\n",
      "       [ 2.44073961e+00],\n",
      "       [-1.22241000e+00]]), 'W2': array([[ 0.37323468, -8.03919051, -0.22840638,  0.2227711 , -6.08611862,\n",
      "        -0.54439773,  0.44782832,  0.80332109,  0.88443847, -0.75592874,\n",
      "         0.06217472,  0.82342199, -0.38066645, -0.78429416,  0.17150327,\n",
      "         0.34295028, -0.30174926,  0.30413908,  4.54560681, -1.64751335]]), 'b2': array([[-0.59646475]])}\n"
     ]
    }
   ],
   "source": [
    "print(cls.parameters)"
   ]
  },
  {
   "cell_type": "code",
   "execution_count": 11,
   "metadata": {},
   "outputs": [
    {
     "data": {
      "text/plain": [
       "array([[0.55542096, 0.44457904],\n",
       "       [0.59487582, 0.40512418],\n",
       "       [0.20977971, 0.79022029],\n",
       "       [0.26250048, 0.73749952],\n",
       "       [0.20274038, 0.79725962],\n",
       "       [0.84463668, 0.15536332],\n",
       "       [0.15566723, 0.84433277],\n",
       "       [0.42510471, 0.57489529],\n",
       "       [0.73753335, 0.26246665],\n",
       "       [0.89566905, 0.10433095],\n",
       "       [0.90042672, 0.09957328],\n",
       "       [0.42472236, 0.57527764],\n",
       "       [0.25538932, 0.74461068],\n",
       "       [0.26934178, 0.73065822],\n",
       "       [0.64240034, 0.35759966],\n",
       "       [0.39855837, 0.60144163],\n",
       "       [0.4239524 , 0.5760476 ],\n",
       "       [0.78609571, 0.21390429],\n",
       "       [0.50641125, 0.49358875],\n",
       "       [0.25797623, 0.74202377],\n",
       "       [0.96325887, 0.03674113],\n",
       "       [0.82897924, 0.17102076],\n",
       "       [0.69407852, 0.30592148],\n",
       "       [0.14806541, 0.85193459],\n",
       "       [0.35712596, 0.64287404],\n",
       "       [0.78861262, 0.21138738],\n",
       "       [0.36943342, 0.63056658],\n",
       "       [0.46434783, 0.53565217],\n",
       "       [0.33850884, 0.66149116],\n",
       "       [0.63294258, 0.36705742],\n",
       "       [0.924116  , 0.075884  ],\n",
       "       [0.48316351, 0.51683649],\n",
       "       [0.47703834, 0.52296166],\n",
       "       [0.83166688, 0.16833312],\n",
       "       [0.18400337, 0.81599663],\n",
       "       [0.63219222, 0.36780778],\n",
       "       [0.37408458, 0.62591542],\n",
       "       [0.15812881, 0.84187119],\n",
       "       [0.98158985, 0.01841015],\n",
       "       [0.19262832, 0.80737168],\n",
       "       [0.14337052, 0.85662948],\n",
       "       [0.44779708, 0.55220292],\n",
       "       [0.13826184, 0.86173816],\n",
       "       [0.39783266, 0.60216734],\n",
       "       [0.20236277, 0.79763723],\n",
       "       [0.82384166, 0.17615834],\n",
       "       [0.15981883, 0.84018117],\n",
       "       [0.21066771, 0.78933229],\n",
       "       [0.20009548, 0.79990452],\n",
       "       [0.13444071, 0.86555929],\n",
       "       [0.73968785, 0.26031215],\n",
       "       [0.27481451, 0.72518549],\n",
       "       [0.89544577, 0.10455423],\n",
       "       [0.05962681, 0.94037319],\n",
       "       [0.54515158, 0.45484842],\n",
       "       [0.36354009, 0.63645991],\n",
       "       [0.09928572, 0.90071428],\n",
       "       [0.29753663, 0.70246337],\n",
       "       [0.44773509, 0.55226491],\n",
       "       [0.71558238, 0.28441762],\n",
       "       [0.59055476, 0.40944524],\n",
       "       [0.92900372, 0.07099628],\n",
       "       [0.05471094, 0.94528906],\n",
       "       [0.21047987, 0.78952013],\n",
       "       [0.83352511, 0.16647489],\n",
       "       [0.87074358, 0.12925642],\n",
       "       [0.0733202 , 0.9266798 ],\n",
       "       [0.27291593, 0.72708407],\n",
       "       [0.50231659, 0.49768341],\n",
       "       [0.19441284, 0.80558716],\n",
       "       [0.91783463, 0.08216537],\n",
       "       [0.451314  , 0.548686  ],\n",
       "       [0.91501244, 0.08498756],\n",
       "       [0.77450648, 0.22549352],\n",
       "       [0.40794086, 0.59205914],\n",
       "       [0.96206234, 0.03793766],\n",
       "       [0.55085729, 0.44914271],\n",
       "       [0.71777191, 0.28222809],\n",
       "       [0.55517887, 0.44482113],\n",
       "       [0.67224197, 0.32775803],\n",
       "       [0.19053322, 0.80946678],\n",
       "       [0.95756887, 0.04243113],\n",
       "       [0.95932727, 0.04067273],\n",
       "       [0.34349956, 0.65650044],\n",
       "       [0.623633  , 0.376367  ],\n",
       "       [0.42114331, 0.57885669],\n",
       "       [0.24078693, 0.75921307],\n",
       "       [0.33705432, 0.66294568],\n",
       "       [0.55630709, 0.44369291],\n",
       "       [0.14777523, 0.85222477],\n",
       "       [0.37072448, 0.62927552],\n",
       "       [0.90976757, 0.09023243],\n",
       "       [0.89793221, 0.10206779],\n",
       "       [0.1454115 , 0.8545885 ],\n",
       "       [0.21379224, 0.78620776],\n",
       "       [0.18967291, 0.81032709],\n",
       "       [0.88957238, 0.11042762],\n",
       "       [0.25392793, 0.74607207],\n",
       "       [0.19780221, 0.80219779],\n",
       "       [0.64705025, 0.35294975],\n",
       "       [0.9195573 , 0.0804427 ],\n",
       "       [0.94262455, 0.05737545],\n",
       "       [0.57451895, 0.42548105],\n",
       "       [0.17943185, 0.82056815],\n",
       "       [0.1517109 , 0.8482891 ],\n",
       "       [0.87289628, 0.12710372],\n",
       "       [0.2338334 , 0.7661666 ],\n",
       "       [0.4227501 , 0.5772499 ],\n",
       "       [0.51643302, 0.48356698],\n",
       "       [0.8908791 , 0.1091209 ],\n",
       "       [0.3643585 , 0.6356415 ],\n",
       "       [0.60415593, 0.39584407],\n",
       "       [0.19590894, 0.80409106],\n",
       "       [0.91896912, 0.08103088],\n",
       "       [0.33253413, 0.66746587],\n",
       "       [0.49563271, 0.50436729],\n",
       "       [0.36710882, 0.63289118],\n",
       "       [0.22621925, 0.77378075]])"
      ]
     },
     "execution_count": 11,
     "metadata": {},
     "output_type": "execute_result"
    }
   ],
   "source": [
    "Y_prob = cls.predict_proba(X)\n",
    "Y_prob"
   ]
  },
  {
   "cell_type": "code",
   "execution_count": 12,
   "metadata": {},
   "outputs": [
    {
     "data": {
      "text/plain": [
       "array([1, 1, 0, 0, 0, 1, 0, 0, 1, 1, 1, 0, 0, 0, 1, 0, 0, 1, 1, 0, 1, 1,\n",
       "       1, 0, 0, 1, 0, 0, 0, 1, 1, 0, 0, 1, 0, 1, 0, 0, 1, 0, 0, 0, 0, 0,\n",
       "       0, 1, 0, 0, 0, 0, 1, 0, 1, 0, 1, 0, 0, 0, 0, 1, 1, 1, 0, 0, 1, 1,\n",
       "       0, 0, 1, 0, 1, 0, 1, 1, 0, 1, 1, 1, 1, 1, 0, 1, 1, 0, 1, 0, 0, 0,\n",
       "       1, 0, 0, 1, 1, 0, 0, 0, 1, 0, 0, 1, 1, 1, 1, 0, 0, 1, 0, 0, 1, 1,\n",
       "       0, 1, 0, 1, 0, 0, 0, 0])"
      ]
     },
     "execution_count": 12,
     "metadata": {},
     "output_type": "execute_result"
    }
   ],
   "source": [
    "Y_hat = cls.predict(X)\n",
    "Y_hat"
   ]
  },
  {
   "cell_type": "code",
   "execution_count": 13,
   "metadata": {},
   "outputs": [
    {
     "data": {
      "text/plain": [
       "0.8135593220338984"
      ]
     },
     "execution_count": 13,
     "metadata": {},
     "output_type": "execute_result"
    }
   ],
   "source": [
    "accuracy_score(Y, Y_hat)"
   ]
  },
  {
   "cell_type": "code",
   "execution_count": 14,
   "metadata": {},
   "outputs": [
    {
     "data": {
      "image/png": "[encoded data removed]",
      "text/plain": [
       "<Figure size 432x288 with 1 Axes>"
      ]
     },
     "metadata": {
      "needs_background": "light"
     },
     "output_type": "display_data"
    }
   ],
   "source": [
    "plot_data(X, Y)\n",
    "plot_surface(cls, X[:, 0], X[:, 1])"
   ]
  },
  {
   "cell_type": "markdown",
   "metadata": {},
   "source": [
    "Зверніть увагу на границю прийняття рішення. Модель старається побудувати складну криву, що може свідчити про її перетренування. Порівняйте отримані результати з класом з sklearn. Спробуйте додати нові шари для нашого класу та порівняти результати тоді. Поекспериментуйте з гіперпараметрами для обох класів."
   ]
  },
  {
   "cell_type": "code",
   "execution_count": 30,
   "metadata": {},
   "outputs": [],
   "source": [
    "from sklearn.neural_network import MLPClassifier\n",
    "clf = MLPClassifier(hidden_layer_sizes = (20,), max_iter = 10000)#, activation = 'logistic', solver = 'sgd', learning_rate_init = 0.01, learning_rate = 'constant')"
   ]
  },
  {
   "cell_type": "code",
   "execution_count": 31,
   "metadata": {},
   "outputs": [
    {
     "data": {
      "text/plain": [
       "MLPClassifier(activation='relu', alpha=0.0001, batch_size='auto', beta_1=0.9,\n",
       "              beta_2=0.999, early_stopping=False, epsilon=1e-08,\n",
       "              hidden_layer_sizes=(20,), learning_rate='constant',\n",
       "              learning_rate_init=0.001, max_fun=15000, max_iter=10000,\n",
       "              momentum=0.9, n_iter_no_change=10, nesterovs_momentum=True,\n",
       "              power_t=0.5, random_state=None, shuffle=True, solver='adam',\n",
       "              tol=0.0001, validation_fraction=0.1, verbose=False,\n",
       "              warm_start=False)"
      ]
     },
     "execution_count": 31,
     "metadata": {},
     "output_type": "execute_result"
    }
   ],
   "source": [
    "clf.fit(X, Y)"
   ]
  },
  {
   "cell_type": "code",
   "execution_count": 32,
   "metadata": {},
   "outputs": [
    {
     "data": {
      "image/png": "[encoded data removed]",
      "text/plain": [
       "<Figure size 432x288 with 1 Axes>"
      ]
     },
     "metadata": {
      "needs_background": "light"
     },
     "output_type": "display_data"
    }
   ],
   "source": [
    "plot_data(X, Y)\n",
    "plot_surface(clf, X[:, 0], X[:, 1])"
   ]
  },
  {
   "cell_type": "code",
   "execution_count": 33,
   "metadata": {},
   "outputs": [
    {
     "data": {
      "text/plain": [
       "0.847457627118644"
      ]
     },
     "execution_count": 33,
     "metadata": {},
     "output_type": "execute_result"
    }
   ],
   "source": [
    "accuracy_score(Y, clf.predict(X))"
   ]
  },
  {
   "cell_type": "code",
   "execution_count": 34,
   "metadata": {},
   "outputs": [
    {
     "data": {
      "text/plain": [
       "1252"
      ]
     },
     "execution_count": 34,
     "metadata": {},
     "output_type": "execute_result"
    }
   ],
   "source": [
    "clf.n_iter_"
   ]
  },
  {
   "cell_type": "code",
   "execution_count": null,
   "metadata": {},
   "outputs": [],
   "source": []
  }
 ],
 "metadata": {
  "anaconda-cloud": {},
  "kernelspec": {
   "display_name": "Python 3",
   "language": "python",
   "name": "python3"
  },
  "language_info": {
   "codemirror_mode": {
    "name": "ipython",
    "version": 3
   },
   "file_extension": ".py",
   "mimetype": "text/x-python",
   "name": "python",
   "nbconvert_exporter": "python",
   "pygments_lexer": "ipython3",
   "version": "3.8.1"
  }
 },
 "nbformat": 4,
 "nbformat_minor": 1
}
